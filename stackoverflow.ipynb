{
  "cells": [
    {
      "cell_type": "markdown",
      "metadata": {
        "id": "VOtE1nH3WJyx"
      },
      "source": [
        "**StackOverflow Post Outcome Prediction Tool**"
      ]
    },
    {
      "cell_type": "markdown",
      "metadata": {
        "id": "ggJcI_e7Wt3x"
      },
      "source": [
        "train.csv is a dataset aquired from kaggle containing 45,000 StackOverflow posts, this dataset was acquired using an API to automate the process so there is no need to drop or fill missing data.\n",
        "\n"
      ]
    },
    {
      "cell_type": "code",
      "execution_count": null,
      "metadata": {
        "id": "geQ2Nvzv2yPd"
      },
      "outputs": [],
      "source": [
        "import pandas as pd\n",
        "df = pd.read_csv('/content/sample_data/train.csv')\n",
        "orig_df = df"
      ]
    },
    {
      "cell_type": "code",
      "execution_count": null,
      "metadata": {
        "colab": {
          "base_uri": "https://localhost:8080/"
        },
        "id": "LCcrFtwK3G78",
        "outputId": "4f8e169c-e8ec-4ae8-f403-065577a9d8a8"
      },
      "outputs": [
        {
          "name": "stdout",
          "output_type": "stream",
          "text": [
            "             Id                                              Title  \\\n",
            "0      34552656             Java: Repeat Task Every Random Seconds   \n",
            "1      34553034                  Why are Java Optionals immutable?   \n",
            "2      34553174  Text Overlay Image with Darkened Opacity React...   \n",
            "3      34553318         Why ternary operator in swift is so picky?   \n",
            "4      34553755                 hide/show fab with scale animation   \n",
            "...         ...                                                ...   \n",
            "44995  60461435  Convert List<String> to string C# - asp.net - ...   \n",
            "44996  60461754  Does Python execute code from the top or botto...   \n",
            "44997  60462001               how to change payment date in Azure?   \n",
            "44998  60465318        how to implement fill in the blank in Swift   \n",
            "44999  60468018  How can I make a c# application outside of vis...   \n",
            "\n",
            "                                                    Body  \\\n",
            "0      <p>I'm already familiar with repeating tasks e...   \n",
            "1      <p>I'd like to understand why Java 8 Optionals...   \n",
            "2      <p>I am attempting to overlay a title over an ...   \n",
            "3      <p>The question is very simple, but I just cou...   \n",
            "4      <p>I'm using custom floatingactionmenu. I need...   \n",
            "...                                                  ...   \n",
            "44995  <p>I am new to this and I am asking for help t...   \n",
            "44996  <p>I am working on learning Python and was won...   \n",
            "44997  <p>It looks like it costs 8 days per month in ...   \n",
            "44998  <p>\"I _____ any questions.\"</p>\\n\\n<p>I want t...   \n",
            "44999  <p>I'm very new to programming and I'm teachin...   \n",
            "\n",
            "                                                    Tags         CreationDate  \\\n",
            "0                                         <java><repeat>  2016-01-01 00:21:59   \n",
            "1                                       <java><optional>  2016-01-01 02:03:20   \n",
            "2      <javascript><image><overlay><react-native><opa...  2016-01-01 02:48:24   \n",
            "3      <swift><operators><whitespace><ternary-operato...  2016-01-01 03:30:17   \n",
            "4      <android><material-design><floating-action-but...  2016-01-01 05:21:48   \n",
            "...                                                  ...                  ...   \n",
            "44995                          <c#><asp.net><sql-server>  2020-02-29 02:22:18   \n",
            "44996                                           <python>  2020-02-29 03:33:59   \n",
            "44997                                   <azure><billing>  2020-02-29 04:34:16   \n",
            "44998                                       <ios><swift>  2020-02-29 12:50:43   \n",
            "44999                                <c#><visual-studio>  2020-02-29 17:55:56   \n",
            "\n",
            "              Y  \n",
            "0      LQ_CLOSE  \n",
            "1            HQ  \n",
            "2            HQ  \n",
            "3            HQ  \n",
            "4            HQ  \n",
            "...         ...  \n",
            "44995  LQ_CLOSE  \n",
            "44996  LQ_CLOSE  \n",
            "44997  LQ_CLOSE  \n",
            "44998  LQ_CLOSE  \n",
            "44999  LQ_CLOSE  \n",
            "\n",
            "[45000 rows x 6 columns]\n"
          ]
        }
      ],
      "source": [
        "print(orig_df)"
      ]
    },
    {
      "cell_type": "markdown",
      "metadata": {
        "id": "x8PXFU4CXOd_"
      },
      "source": [
        "By using the loc function in python, it is possible to locate the ids of posts within the dataset, this may be used to add new features such as estimating the amount of 'votes' a question has by adding missing vote values to the dataset"
      ]
    },
    {
      "cell_type": "code",
      "execution_count": null,
      "metadata": {
        "colab": {
          "base_uri": "https://localhost:8080/"
        },
        "id": "nKTrswpl8_-4",
        "outputId": "d5a2b3aa-7d38-466c-e598-80d8de25301a"
      },
      "outputs": [
        {
          "name": "stdout",
          "output_type": "stream",
          "text": [
            "1    34553034\n",
            "2    34553174\n",
            "3    34553318\n",
            "Name: Id, dtype: int64\n"
          ]
        }
      ],
      "source": [
        "ids = df['Id'].loc[1:3]\n",
        "print(ids)"
      ]
    },
    {
      "cell_type": "code",
      "execution_count": null,
      "metadata": {
        "colab": {
          "base_uri": "https://localhost:8080/"
        },
        "id": "W_wzVM0J9v0X",
        "outputId": "5648ee68-8f8e-4ee6-8aa1-27a24e510a29"
      },
      "outputs": [
        {
          "name": "stdout",
          "output_type": "stream",
          "text": [
            "[array([34553034]), array([34553174]), array([34553318])]\n"
          ]
        }
      ],
      "source": [
        "from pandas.core.arrays.numeric import np\n",
        "numpy_id = ids.to_numpy()\n",
        "numpy_id = np.split(numpy_id, 3)\n",
        "print(numpy_id)"
      ]
    },
    {
      "cell_type": "code",
      "execution_count": null,
      "metadata": {
        "colab": {
          "base_uri": "https://localhost:8080/"
        },
        "id": "mWoUEyZU3Xsr",
        "outputId": "efc0b23d-92aa-4c9d-c917-9cd91cdcc8ca"
      },
      "outputs": [
        {
          "data": {
            "text/plain": [
              "<p>I'm already familiar with repeating tasks every n seconds by using Java.util.Timer and Java.util.TimerTask. But lets say I want to print \"Hello World\" to the console every random seconds from 1-5. Unfortunately I'm in a bit of a rush and don't have any code to show so far. Any help would be apriciated.  </p>\\n                                                                                                                                                                                                                                                                                                                                                                                                                                                                                                                                                                                                                                                                                                                                                                                                                                                                                                                                                                                                                                                                                                                                                                                                                                                                                                                                                                                                                                                                                                                                                                                                                                                                                                                                                1\n",
              "I have three worksheets in excel which I am using. First page is where I put all the data so it can populate in sheet 2 and sheet 3. Sheet 2 and 3 is what I am going to save as pdf. My question, is there a vba code that will name sheet 2 with the value in cell A1 with the letter \"F\" next to it and then page three with the cell value in A1 again but with the letter E next to it? For e.g. cell A1 has Joy Nice, worksheet 2 will be named Joy Nice-F and worksheet 3 will be named Joy Nice-E. And yes I am new to VBA and I love what it can do. Thank you.                                                                                                                                                                                                                                                                                                                                                                                                                                                                                                                                                                                                                                                                                                                                                                                                                                                                                                                                                                                                                                                                                                                                                                                                                                                                                                                                                                                                                                                                                                  1\n",
              "<p>I have to retrieve the data from various tables in a DB and store each table value as ResultSet. Then I need to populate each ResultSet values in each sheet of single excel file. So I need to write each table values with column name in a separate sheet of a excel file. Thanks in advance</p>\\n                                                                                                                                                                                                                                                                                                                                                                                                                                                                                                                                                                                                                                                                                                                                                                                                                                                                                                                                                                                                                                                                                                                                                                                                                                                                                                                                                                                                                                                                                                                                                                                                                                                                                                                                                                  1\n",
              "<p>I'm starting with Flutter, and I came across a layout with which I'm having trouble building, below a visual example:</p>\\n\\n<p><a href=\"https://i.stack.imgur.com/yRUPZ.jpg\" rel=\"noreferrer\"><img src=\"https://i.stack.imgur.com/yRUPZ.jpg\" alt=\"enter image description here\"></a></p>\\n\\n<p>I already tried something like:</p>\\n\\n<pre><code>        class MyApp extends StatelessWidget {\\n          @override\\n          Widget build(BuildContext context) {\\n            return new MaterialApp(\\n              title: 'Welcome to Flutter',\\n              home: new Scaffold(\\n                  appBar: new AppBar(\\n                    title: new Text('App'),\\n                  ),\\n                  body: new Column(\\n                      children: &lt;Widget&gt;[\\n                        new Text('LISTA',\\n                            style: new TextStyle(\\n                              fontSize: 15.2,\\n                              fontWeight: FontWeight.bold,\\n                            )\\n                        ),\\n                        new Container(\\n                          height: 200.0,\\n                          child: new ListView(\\n                            children: &lt;Widget&gt;[\\n                              new RaisedButton(\\n                                onPressed: null,\\n                                child: new Text(\"text button\"),\\n                              ),\\n                              new Padding(padding: new EdgeInsets.all(5.00)),\\n                              new RaisedButton(\\n                                onPressed: null,\\n                                child: new Text(\"text button 2\"),\\n                              )\\n                            ],\\n                          ),\\n                        )\\n                      ]\\n                  )\\n              ),\\n            );\\n          }\\n        }\\n</code></pre>\\n\\n<p>But for Container it needs a height, and I need it to take up the rest of the screen.</p>\\n    1\n",
              "<p>I have HashMap where key is bird specie and value is number of perceptions. Here is my code:</p>\\n\\n<pre><code>public class Program {\\n\\npublic static void main(String[] args) {\\n\\n    HashMap&lt;String, Integer&gt; species = new HashMap&lt;&gt;();\\n    Scanner reader = new Scanner(System.in);\\n\\n    species.put(\"hawk (buteo jamaicensis)\", 2);\\n    species.put(\"eagle (aquila chrysaetos)\", 4);\\n    species.put(\"sparrow (passeridae)\", 5);\\n\\n    System.out.println(\"What specie?\"); //output \"chicken\"\\n    String specie = reader.nextLine();\\n\\n    for (HashMap.Entry&lt;String, Integer&gt; entry: species.entrySet()) {\\n        if (entry.getKey().contains(specie)) {\\n            System.out.println(entry.getKey()+\" : \"+entry.getValue()+\" perceptions\");\\n        } else {\\n            System.out.println(\"Not in database!\");\\n        }\\n    } \\n}\\n</code></pre>\\n\\n<p>}</p>\\n\\n<p>How I can check if the specie exists in hashmap? For example if the specie output is \"chicken\" and it's not in database, then the program should print \"Not in database!\". Now the output is:</p>\\n\\n<pre><code>Not in database!\\nNot in database!\\nNot in database!\\n</code></pre>\\n\\n<p>And my goal output is:</p>\\n\\n<pre><code>Not in database!\\n</code></pre>\\n                                                                                                                                                                                                                                                                                                                                                                                                                                                                                                                                                                                                                                                                                                                                                                                 1\n",
              "                                                                                                                                                                                                                                                                                                                                                                                                                                                                                                                                                                                                                                                                                                                                                                                                                                                                                                                                                                                                                                                                                                                                                                                                                                                                                                                                                                                                                                                                                                                                                                                                                                                                                                                                                                                                                                                                                                                                                                                                                                                                         ..\n",
              "<p>I have a dataframe which looks like this: </p>\\n\\n<pre><code>id1 1 2 3 4  \\nid2 2 6 6 0 \\nid3 3 4 2 2\\nid4 4 3 3 1\\nid5 5 6 6 5\\nid6 6 2 4 6\\n</code></pre>\\n\\n<p>The first line of the frame is the first data point. the second is another data point, etc...</p>\\n\\n<p>my DataPoint Class is as follows:</p>\\n\\n<pre><code>public class DataPoint {\\n    private ArrayList&lt;Integer&gt; values;\\n    private String id;\\n}\\n</code></pre>\\n\\n<p>So for id1 the fields will be: id = id1, and values = {1, 2, 3, 4}, etc. \\nWhat I'm trying to do is print the DataPoints by columns...</p>\\n\\n<p>So for the above input, my output should be:</p>\\n\\n<pre><code>1 2 3 4 5 6\\n2 6 4 3 6 2\\n3 6 2 3 6 4\\n4 0 2 1 5 6\\n</code></pre>\\n\\n<p>I can't modify the above format of DataPoint because I'm too far ahead in my project and I can't afford to change all of the data structures :/ </p>\\n\\n<p>Is there any way to transpose my results without changing the data structures?</p>\\n                                                                                                                                                                                                                                                                                                                                                                                                                                                                                                                                                                                                                                                                                                                                                                                                                                                                                                                                                                                                                                                                           1\n",
              "<p>what are the best practices to store the ui logs/error statements of all the clients in the server side,\\nso that we can analyse this later</p>\\n                                                                                                                                                                                                                                                                                                                                                                                                                                                                                                                                                                                                                                                                                                                                                                                                                                                                                                                                                                                                                                                                                                                                                                                                                                                                                                                                                                                                                                                                                                                                                                                                                                                                                                                                                                                                                                                                                                                      1\n",
              "I recently got into Codingame and I'm trying to complete all the solo puzzles.\\r\\n\\r\\nI'm kind of stuck on the Horse-racing one, the algorithm that I'm using is quite easy but for some reason it fails 2/8 of the submission validators (5 - All horses tie and 6 - Horses in disorder).\\r\\n\\r\\nCan someone help me figure out what I'm doing wrong ?\\r\\n\\r\\n    int main()\\r\\n    {\\r\\n        int N;\\r\\n        cin >> N; cin.ignore();\\r\\n\\r\\n        set<int> power;\\r\\n\\r\\n        for (int i = 0; i < N; i++)\\r\\n        {\\r\\n            int Pi;\\r\\n            cin >> Pi; cin.ignore();\\r\\n            power.insert(Pi);\\r\\n        }\\r\\n    \\r\\n        int minDiff = 10000000;\\r\\n    \\r\\n        auto i = power.begin();\\r\\n    \\r\\n        while (i != power.end())\\r\\n        {\\r\\n            minDiff = min(minDiff, abs(*i - *(++i)));\\r\\n        }\\r\\n        \\r\\n        cout << minDiff << endl;\\r\\n    }\\r\\n\\r\\n                                                                                                                                                                                                                                                                                                                                                                                                                                                                                                                                                                                                                                                                                                                                                                                                                                                                                                                                                                                                                                                                                                                                     1\n",
              "<p>I'm beginer in WPF, and i need to insert 3d objects (.obj) in the project and do some animations on theme.\\nI use Visual Studio 2015.</p>\\n\\n<p>Can you tell me the best practice? \\nThank you.</p>\\n                                                                                                                                                                                                                                                                                                                                                                                                                                                                                                                                                                                                                                                                                                                                                                                                                                                                                                                                                                                                                                                                                                                                                                                                                                                                                                                                                                                                                                                                                                                                                                                                                                                                                                                                                                                                                                                                  1\n",
              "<p>I'm very new to programming and I'm teaching myself. I made a calculator for some calculations we do in the lab I work in and wanted to be able to open the app from the computer at work instead of opening it on visual studio from my laptop. Just curious if this is possible, and I've been trying to Google if this is possible but I don't think I'm using the right words in my searches.</p>\\n\\n<p>If this is possible, it'd be awesome if someone could help me out with an explanation or a link to a video or thread that already explains this. </p>\\n\\n<p>Thank you for your time!!</p>\\n                                                                                                                                                                                                                                                                                                                                                                                                                                                                                                                                                                                                                                                                                                                                                                                                                                                                                                                                                                                                                                                                                                                                                                                                                                                                                                                                                                                                                                                                1\n",
              "Name: Body, Length: 45000, dtype: int64"
            ]
          },
          "execution_count": 5,
          "metadata": {},
          "output_type": "execute_result"
        }
      ],
      "source": [
        "df.Body.value_counts(dropna=True)"
      ]
    },
    {
      "cell_type": "code",
      "execution_count": null,
      "metadata": {
        "colab": {
          "base_uri": "https://localhost:8080/"
        },
        "id": "R4I42Hjy4iyB",
        "outputId": "6a2ad8c8-1e2b-42ec-e3bf-acf82f8c9d6f"
      },
      "outputs": [
        {
          "name": "stdout",
          "output_type": "stream",
          "text": [
            "             Id                                              Title  \\\n",
            "0      34552656             Java: Repeat Task Every Random Seconds   \n",
            "1      34553034                  Why are Java Optionals immutable?   \n",
            "2      34553174  Text Overlay Image with Darkened Opacity React...   \n",
            "3      34553318         Why ternary operator in swift is so picky?   \n",
            "4      34553755                 hide/show fab with scale animation   \n",
            "...         ...                                                ...   \n",
            "44995  60461435  Convert List<String> to string C# - asp.net - ...   \n",
            "44996  60461754  Does Python execute code from the top or botto...   \n",
            "44997  60462001               how to change payment date in Azure?   \n",
            "44998  60465318        how to implement fill in the blank in Swift   \n",
            "44999  60468018  How can I make a c# application outside of vis...   \n",
            "\n",
            "                                                    Body  \\\n",
            "0      <p>I'm already familiar with repeating tasks e...   \n",
            "1      <p>I'd like to understand why Java 8 Optionals...   \n",
            "2      <p>I am attempting to overlay a title over an ...   \n",
            "3      <p>The question is very simple, but I just cou...   \n",
            "4      <p>I'm using custom floatingactionmenu. I need...   \n",
            "...                                                  ...   \n",
            "44995  <p>I am new to this and I am asking for help t...   \n",
            "44996  <p>I am working on learning Python and was won...   \n",
            "44997  <p>It looks like it costs 8 days per month in ...   \n",
            "44998  <p>\"I _____ any questions.\"</p>\\n\\n<p>I want t...   \n",
            "44999  <p>I'm very new to programming and I'm teachin...   \n",
            "\n",
            "                                                    Tags         CreationDate  \\\n",
            "0                                         <java><repeat>  2016-01-01 00:21:59   \n",
            "1                                       <java><optional>  2016-01-01 02:03:20   \n",
            "2      <javascript><image><overlay><react-native><opa...  2016-01-01 02:48:24   \n",
            "3      <swift><operators><whitespace><ternary-operato...  2016-01-01 03:30:17   \n",
            "4      <android><material-design><floating-action-but...  2016-01-01 05:21:48   \n",
            "...                                                  ...                  ...   \n",
            "44995                          <c#><asp.net><sql-server>  2020-02-29 02:22:18   \n",
            "44996                                           <python>  2020-02-29 03:33:59   \n",
            "44997                                   <azure><billing>  2020-02-29 04:34:16   \n",
            "44998                                       <ios><swift>  2020-02-29 12:50:43   \n",
            "44999                                <c#><visual-studio>  2020-02-29 17:55:56   \n",
            "\n",
            "              Y  \n",
            "0      LQ_CLOSE  \n",
            "1            HQ  \n",
            "2            HQ  \n",
            "3            HQ  \n",
            "4            HQ  \n",
            "...         ...  \n",
            "44995  LQ_CLOSE  \n",
            "44996  LQ_CLOSE  \n",
            "44997  LQ_CLOSE  \n",
            "44998  LQ_CLOSE  \n",
            "44999  LQ_CLOSE  \n",
            "\n",
            "[45000 rows x 6 columns]\n"
          ]
        }
      ],
      "source": [
        "print(df)"
      ]
    },
    {
      "cell_type": "markdown",
      "metadata": {
        "id": "pTDv8l2EXtmu"
      },
      "source": [
        "LQ_EDIT suggests that the post will only be accepted if adjustments are made to the question, this can be dropped in order to create a binary classification of HQ (High Quality) or LQ_CLOSE (where the question is low quality and users are unable to answer)"
      ]
    },
    {
      "cell_type": "code",
      "execution_count": null,
      "metadata": {
        "id": "P-KDqY5J71j9"
      },
      "outputs": [],
      "source": [
        "df.drop(df[df[\"Y\"].str.contains(\"LQ_EDIT\")].index)\n",
        "df.Y = df.Y.map({'HQ': 1, 'LQ_CLOSE': 0})"
      ]
    },
    {
      "cell_type": "markdown",
      "metadata": {
        "id": "Nf0hHkIhYKaX"
      },
      "source": [
        "The Tags and CreationDate columns are also not required although it should be noted that the tags that a question has may have some bearing on if a post is accepted or not"
      ]
    },
    {
      "cell_type": "code",
      "execution_count": null,
      "metadata": {
        "id": "CU0COPHt3cdl"
      },
      "outputs": [],
      "source": [
        "df = df.drop(\n",
        "     columns=[\n",
        "         \"Tags\",\n",
        "         \"CreationDate\"\n",
        "     ]\n",
        " )"
      ]
    },
    {
      "cell_type": "code",
      "execution_count": null,
      "metadata": {
        "colab": {
          "base_uri": "https://localhost:8080/"
        },
        "id": "JBw26fKbzzdi",
        "outputId": "10ea0164-28e6-404a-ed29-2ce0bc29a2ea"
      },
      "outputs": [
        {
          "name": "stdout",
          "output_type": "stream",
          "text": [
            "             Id                                              Title  \\\n",
            "0      34552656             Java: Repeat Task Every Random Seconds   \n",
            "1      34553034                  Why are Java Optionals immutable?   \n",
            "2      34553174  Text Overlay Image with Darkened Opacity React...   \n",
            "3      34553318         Why ternary operator in swift is so picky?   \n",
            "4      34553755                 hide/show fab with scale animation   \n",
            "...         ...                                                ...   \n",
            "44995  60461435  Convert List<String> to string C# - asp.net - ...   \n",
            "44996  60461754  Does Python execute code from the top or botto...   \n",
            "44997  60462001               how to change payment date in Azure?   \n",
            "44998  60465318        how to implement fill in the blank in Swift   \n",
            "44999  60468018  How can I make a c# application outside of vis...   \n",
            "\n",
            "                                                    Body    Y  \n",
            "0      <p>I'm already familiar with repeating tasks e...  0.0  \n",
            "1      <p>I'd like to understand why Java 8 Optionals...  1.0  \n",
            "2      <p>I am attempting to overlay a title over an ...  1.0  \n",
            "3      <p>The question is very simple, but I just cou...  1.0  \n",
            "4      <p>I'm using custom floatingactionmenu. I need...  1.0  \n",
            "...                                                  ...  ...  \n",
            "44995  <p>I am new to this and I am asking for help t...  0.0  \n",
            "44996  <p>I am working on learning Python and was won...  0.0  \n",
            "44997  <p>It looks like it costs 8 days per month in ...  0.0  \n",
            "44998  <p>\"I _____ any questions.\"</p>\\n\\n<p>I want t...  0.0  \n",
            "44999  <p>I'm very new to programming and I'm teachin...  0.0  \n",
            "\n",
            "[45000 rows x 4 columns]\n"
          ]
        }
      ],
      "source": [
        "print(df)"
      ]
    },
    {
      "cell_type": "markdown",
      "metadata": {
        "id": "DIIKthSlYZFy"
      },
      "source": [
        "The below code splits the train csv to seperate csvs based on rating value (Y), this may be used to for sentiment analysis following the code supplied by scikit-learn https://github.com/scikit-learn/scikit-learn/blob/main/doc/tutorial/text_analytics/solutions/exercise_02_sentiment.py"
      ]
    },
    {
      "cell_type": "code",
      "execution_count": null,
      "metadata": {
        "id": "nzMwo6gINWFo"
      },
      "outputs": [],
      "source": [
        "from itertools import groupby\n",
        "import csv\n",
        "\n",
        "with open('/content/sample_data/train.csv') as csv_file:\n",
        "    reader = csv.reader(csv_file)\n",
        "    next(reader) #skip header\n",
        "\n",
        "    #Group by column (ID)\n",
        "    lst = sorted(reader, key=lambda x : x[5])\n",
        "    groups = groupby(lst, key=lambda x : x[5])\n",
        "\n",
        "    #Write file for each ID\n",
        "    for k,g in groups:\n",
        "        filename = k + '.csv'\n",
        "        with open(filename, 'w', newline='') as fout:\n",
        "            csv_output = csv.writer(fout)\n",
        "            csv_output.writerow([\"Id\",\"Title\",\"Body\",\"Tags\",\"CreationDate\",\"Y\"])  #header\n",
        "            for line in g:\n",
        "                csv_output.writerow(line)"
      ]
    },
    {
      "cell_type": "markdown",
      "metadata": {
        "id": "i3A1H8ugZAa5"
      },
      "source": [
        "stopwords are words that are deemed as insignificant for the processing of natural language, the code below downloads nltk's stopwords file and prepares the t variable to strip punctuation, stripping punctuation may have a negative impact on the accuracy of the model due to how punctuation is used differently in computer programming, the main focus of StackOverflow, and general language"
      ]
    },
    {
      "cell_type": "code",
      "execution_count": null,
      "metadata": {
        "colab": {
          "base_uri": "https://localhost:8080/"
        },
        "id": "Doy7tuZeJT9H",
        "outputId": "2287c751-25ef-44a2-bbd5-276e23da17c0"
      },
      "outputs": [
        {
          "name": "stderr",
          "output_type": "stream",
          "text": [
            "[nltk_data] Downloading package stopwords to /root/nltk_data...\n",
            "[nltk_data]   Unzipping corpora/stopwords.zip.\n"
          ]
        }
      ],
      "source": [
        "import nltk\n",
        "nltk.download('stopwords')\n",
        "from nltk.stem.snowball import SnowballStemmer\n",
        "from nltk.corpus import stopwords\n",
        "import string, re\n",
        "\n",
        "stemmer = SnowballStemmer('english')\n",
        "t = str.maketrans(dict.fromkeys(string.punctuation))"
      ]
    },
    {
      "cell_type": "markdown",
      "metadata": {
        "id": "TG3LEKraZr2P"
      },
      "source": [
        "the clean text function removes the stopwords from the body of df (train.csv) as well as removes punctuation"
      ]
    },
    {
      "cell_type": "code",
      "execution_count": null,
      "metadata": {
        "id": "jwH_9eXjJwML"
      },
      "outputs": [],
      "source": [
        "def clean_text(text):\n",
        "  text = text.translate(t)\n",
        "  text = text.split()\n",
        "  stops = set(stopwords.words(\"english\"))\n",
        "  text = [stemmer.stem(w) for w in text if not w in stops]\n",
        "\n",
        "  text = \" \".join(text)\n",
        "  text = re.sub(' +',' ', text)\n",
        "  return text\n",
        "\n",
        "df[\"Body\"] = df[\"Body\"].apply(clean_text)"
      ]
    },
    {
      "cell_type": "markdown",
      "metadata": {
        "id": "8fjPA897Z8Ay"
      },
      "source": [
        "when processing language, it is important to condense the data that has been aqcuired, this may be achieved by using CountVectorizer, which splits a sentence in to an array with the index representing an individual word and the value stored being the frequency, following on from this, it is possible to store ngrams, which is a series of words that appear together frequently.\n",
        "\n",
        "TF-IDF (or term frequency-inverse document frequency) is a score to represent the importance of strings (or in this instance, ngrams), TF refers to the number of times a word, string or ngram occurs and IDF acts as a measure of how common or uncommon the word, string or ngram is, the two values are then multiplied to give a TF-IDF score which may be used in other applications such as Search Engine Optimization.\n",
        "\n",
        "the max_features parameter controls how many unique features are available for the vectorizer to use, this value is a large part of hypertuning, originally features was set to be 5000 although an increase to 7000 yielded a slight increase in accuracy using Naive Bayes, this value may be further tweaked to yield better results."
      ]
    },
    {
      "cell_type": "code",
      "execution_count": null,
      "metadata": {
        "id": "aUOvqjMaJwQ0"
      },
      "outputs": [],
      "source": [
        "from sklearn import model_selection, preprocessing\n",
        "from sklearn.feature_extraction.text import TfidfVectorizer, CountVectorizer\n",
        "train_x, valid_x, train_y, valid_y = model_selection.train_test_split(df['Body'], df['Y'])\n",
        "encoder = preprocessing.LabelEncoder()\n",
        "train_y = encoder.fit_transform(train_y)\n",
        "valid_y = encoder.fit_transform(valid_y)\n",
        "count_vect = CountVectorizer(analyzer='word', token_pattern=r'\\w{1,}')\n",
        "count_vect.fit(df['Body'])\n",
        "xtrain_count = count_vect.transform(train_x)\n",
        "xvalid_count = count_vect.transform(valid_x)\n",
        "# word level tf-idf vectorization\n",
        "tfidf_vect = TfidfVectorizer(analyzer='word', token_pattern=r'\\w{1,}', max_features=7000) #originally 5000\n",
        "tfidf_vect.fit(df['Body'])\n",
        "xtrain_tfidf = tfidf_vect.transform(train_x)\n",
        "xvalid_tfidf = tfidf_vect.transform(valid_x)\n",
        "tfidf_vect_ngram = TfidfVectorizer(analyzer='word', token_pattern=r'\\w{1,}', ngram_range=(2,3), max_features=7000)\n",
        "tfidf_vect_ngram.fit(df['Body'])\n",
        "xtrain_tfidf_ngram = tfidf_vect_ngram.transform(train_x)\n",
        "xvalid_tfidf_ngram = tfidf_vect_ngram.transform(valid_x)"
      ]
    },
    {
      "cell_type": "code",
      "execution_count": null,
      "metadata": {
        "id": "nIRjTMhsLPQl"
      },
      "outputs": [],
      "source": [
        "from sklearn import linear_model, naive_bayes, svm, metrics\n",
        "from sklearn.metrics import classification_report\n",
        "\n",
        "target_names = list(encoder.classes_) # output labels for report generation\n",
        "def report_generation(classifier, train_data, valid_data, train_y, valid_y):\n",
        "   classifier.fit(train_data, train_y)\n",
        "   predictions = classifier.predict(valid_data)\n",
        "   print(\"Accuracy :\", metrics.accuracy_score(predictions, valid_y))\n",
        "   report = classification_report(valid_y, predictions, output_dict=True, target_names=target_names)\n",
        "   return report"
      ]
    },
    {
      "cell_type": "markdown",
      "metadata": {
        "id": "Isk6EMLtc8K2"
      },
      "source": [
        "The two segments of code below are two seperate algorithms that may be used in the processing of language, Naive Bayes and Support Vector Machines, SVM required too much time to generate it's results with a default of 5 epochs although the time taken was heavilly impacted by the number of features.\n",
        "\n",
        "Therefore Naive Bayes was chosen as the algorithm for the machine learning model"
      ]
    },
    {
      "cell_type": "code",
      "execution_count": null,
      "metadata": {
        "colab": {
          "base_uri": "https://localhost:8080/"
        },
        "id": "sr-dufRfLafq",
        "outputId": "4396a40d-9369-4ff9-9f41-05782b43b865"
      },
      "outputs": [
        {
          "name": "stdout",
          "output_type": "stream",
          "text": [
            "Accuracy : 0.7927111111111111\n",
            "NB Count Vectorizer Report : {'precision': 0.8164230909178949, 'recall': 0.7927111111111111, 'f1-score': 0.7959311004327146, 'support': 11250}\n"
          ]
        }
      ],
      "source": [
        "# Naive Bayes\n",
        "clf = naive_bayes.MultinomialNB()\n",
        "report = report_generation(clf, xtrain_count, xvalid_count, train_y, valid_y)\n",
        "print(\"NB Count Vectorizer Report :\", report['weighted avg'])"
      ]
    },
    {
      "cell_type": "markdown",
      "metadata": {
        "id": "yYoFx_eBLjHh"
      },
      "source": [
        "# Support Vector Machines\n",
        "# takes too long, had very good results when just using xtrain_count and xvalid_count    \n",
        "classifier = svm.SVC(gamma=\"scale\")    \n",
        "report = report_generation(classifier, xtrain_tfidf_ngram, xvalid_tfidf_ngram, train_y, valid_y)    \n",
        "print(\"SVM Count Vectorizer Report :\", report['weighted avg'])"
      ]
    },
    {
      "cell_type": "markdown",
      "metadata": {
        "id": "Kk1-9HMj7pl-"
      },
      "source": [
        "We can then save the model we have trained as a .pkl file, this allows us to avoid having to train the data each time we wish to run our code.\n",
        "\n",
        "despite a '2' value not being mapped, it still appears within the output of predicting with the pickled model, it can be assumed that this value may be mapped to LQ_EDIT"
      ]
    },
    {
      "cell_type": "code",
      "execution_count": null,
      "metadata": {
        "colab": {
          "base_uri": "https://localhost:8080/"
        },
        "id": "81K_cowfTFR8",
        "outputId": "fee7b743-143f-48a8-95c9-237d078c55bc"
      },
      "outputs": [
        {
          "data": {
            "text/plain": [
              "array([1, 2, 1, ..., 2, 0, 1])"
            ]
          },
          "execution_count": 20,
          "metadata": {},
          "output_type": "execute_result"
        }
      ],
      "source": [
        "# Save the trained model as a pickle string.\n",
        "saved_model = pickle.dump(clf, open('model.pkl', 'wb'))\n",
        "import pickle\n",
        "pickled_model = pickle.load(open('model.pkl', 'rb'))\n",
        "predictions = naive_bayes.MultinomialNB()\n",
        "xvalid_count = count_vect.transform(valid_x)\n",
        "#pickled_model.fit(valid_x, valid_y)\n",
        "xvalid_count = count_vect.transform(valid_x)\n",
        "pickled_model.fit(xvalid_count, valid_y)\n",
        "pickled_model.predict(xvalid_count)"
      ]
    },
    {
      "cell_type": "markdown",
      "metadata": {
        "id": "ILUw-txPNoRQ"
      },
      "source": [
        "the code below downloads modules for use with flask in google colab as well as supplying ngrok with an authtoken so that the resulting webpage may be accessed, this token is accessible after accessing the flask web server and creating an ngrok account"
      ]
    },
    {
      "cell_type": "code",
      "execution_count": null,
      "metadata": {
        "colab": {
          "base_uri": "https://localhost:8080/"
        },
        "id": "-9h-HqKNDZK5",
        "outputId": "b0435875-44fb-4fff-da02-3dbf988d9c0e"
      },
      "outputs": [
        {
          "name": "stdout",
          "output_type": "stream",
          "text": [
            "Looking in indexes: https://pypi.org/simple, https://us-python.pkg.dev/colab-wheels/public/simple/\n",
            "Collecting flask-ngrok\n",
            "  Downloading flask_ngrok-0.0.25-py3-none-any.whl (3.1 kB)\n",
            "Requirement already satisfied: Flask>=0.8 in /usr/local/lib/python3.8/dist-packages (from flask-ngrok) (1.1.4)\n",
            "Requirement already satisfied: requests in /usr/local/lib/python3.8/dist-packages (from flask-ngrok) (2.25.1)\n",
            "Requirement already satisfied: Werkzeug<2.0,>=0.15 in /usr/local/lib/python3.8/dist-packages (from Flask>=0.8->flask-ngrok) (1.0.1)\n",
            "Requirement already satisfied: Jinja2<3.0,>=2.10.1 in /usr/local/lib/python3.8/dist-packages (from Flask>=0.8->flask-ngrok) (2.11.3)\n",
            "Requirement already satisfied: itsdangerous<2.0,>=0.24 in /usr/local/lib/python3.8/dist-packages (from Flask>=0.8->flask-ngrok) (1.1.0)\n",
            "Requirement already satisfied: click<8.0,>=5.1 in /usr/local/lib/python3.8/dist-packages (from Flask>=0.8->flask-ngrok) (7.1.2)\n",
            "Requirement already satisfied: idna<3,>=2.5 in /usr/local/lib/python3.8/dist-packages (from requests->flask-ngrok) (2.10)\n",
            "Requirement already satisfied: chardet<5,>=3.0.2 in /usr/local/lib/python3.8/dist-packages (from requests->flask-ngrok) (4.0.0)\n",
            "Requirement already satisfied: certifi>=2017.4.17 in /usr/local/lib/python3.8/dist-packages (from requests->flask-ngrok) (2022.12.7)\n",
            "Requirement already satisfied: urllib3<1.27,>=1.21.1 in /usr/local/lib/python3.8/dist-packages (from requests->flask-ngrok) (1.24.3)\n",
            "Requirement already satisfied: MarkupSafe>=0.23 in /usr/local/lib/python3.8/dist-packages (from Jinja2<3.0,>=2.10.1->Flask>=0.8->flask-ngrok) (2.0.1)\n",
            "Installing collected packages: flask-ngrok\n",
            "Successfully installed flask-ngrok-0.0.25\n",
            "Looking in indexes: https://pypi.org/simple, https://us-python.pkg.dev/colab-wheels/public/simple/\n",
            "Collecting utils\n",
            "  Downloading utils-1.0.1-py2.py3-none-any.whl (21 kB)\n",
            "Installing collected packages: utils\n",
            "Successfully installed utils-1.0.1\n",
            "Looking in indexes: https://pypi.org/simple, https://us-python.pkg.dev/colab-wheels/public/simple/\n",
            "Collecting pyngrok\n",
            "  Downloading pyngrok-5.2.1.tar.gz (761 kB)\n",
            "\u001b[2K     \u001b[90m━━━━━━━━━━━━━━━━━━━━━━━━━━━━━━━━━━━━━━\u001b[0m \u001b[32m761.3/761.3 KB\u001b[0m \u001b[31m13.9 MB/s\u001b[0m eta \u001b[36m0:00:00\u001b[0m\n",
            "\u001b[?25h  Preparing metadata (setup.py) ... \u001b[?25l\u001b[?25hdone\n",
            "Requirement already satisfied: PyYAML in /usr/local/lib/python3.8/dist-packages (from pyngrok) (6.0)\n",
            "Building wheels for collected packages: pyngrok\n",
            "  Building wheel for pyngrok (setup.py) ... \u001b[?25l\u001b[?25hdone\n",
            "  Created wheel for pyngrok: filename=pyngrok-5.2.1-py3-none-any.whl size=19792 sha256=6c9dce832c47e956a90800ee08f78a908bed61f0e0eacde95787c7abc97275c9\n",
            "  Stored in directory: /root/.cache/pip/wheels/5d/f2/70/526da675d32f17577ec47ac4c663084efe39d47c826b6c3bb1\n",
            "Successfully built pyngrok\n",
            "Installing collected packages: pyngrok\n",
            "Successfully installed pyngrok-5.2.1\n",
            "Authtoken saved to configuration file: /root/.ngrok2/ngrok.yml\n"
          ]
        }
      ],
      "source": [
        "!pip install flask-ngrok\n",
        "!pip install utils\n",
        "! pip install pyngrok\n",
        "! ngrok authtoken TOKEN_GOES_HERE"
      ]
    },
    {
      "cell_type": "markdown",
      "metadata": {
        "id": "7cOZIFmDeusb"
      },
      "source": [
        "the following code is primarily flask although it runs the train csv through data cleaning and processing again, it does not however retrain the model. By appending the user's input to the end of the csv, we can easily and relatively quickly access the predicted value of Y by simply looking at the last value given in the array of predicted values, this is then used to generate the results page which shows the user the predicted outcome of their question.\n",
        "\n"
      ]
    },
    {
      "cell_type": "code",
      "execution_count": null,
      "metadata": {
        "colab": {
          "background_save": true,
          "base_uri": "https://localhost:8080/"
        },
        "id": "hvj5sIuYDeRZ",
        "outputId": "5864e99d-8a95-4154-f869-f45c51a981aa"
      },
      "outputs": [
        {
          "name": "stdout",
          "output_type": "stream",
          "text": [
            " * Serving Flask app \"__main__\" (lazy loading)\n",
            " * Environment: production\n",
            "\u001b[31m   WARNING: This is a development server. Do not use it in a production deployment.\u001b[0m\n",
            "\u001b[2m   Use a production WSGI server instead.\u001b[0m\n",
            " * Debug mode: off\n"
          ]
        },
        {
          "name": "stderr",
          "output_type": "stream",
          "text": [
            "INFO:werkzeug: * Running on http://127.0.0.1:5000/ (Press CTRL+C to quit)\n"
          ]
        },
        {
          "name": "stdout",
          "output_type": "stream",
          "text": [
            " * Running on http://0452-34-74-36-15.ngrok.io\n",
            " * Traffic stats available on http://127.0.0.1:4040\n"
          ]
        }
      ],
      "source": [
        "import json\n",
        "import pickle\n",
        "from flask import Flask, request, render_template\n",
        "from flask_ngrok import run_with_ngrok\n",
        "from pandas.core.arrays.numeric import np\n",
        "from csv import writer\n",
        "app = Flask(__name__)\n",
        "run_with_ngrok(app)\n",
        "model = pickle.load(open('model.pkl', 'rb'))\n",
        "\n",
        "def ValuePredictor(to_predict):\n",
        "    to_predict = np.array(to_predict).reshape(4, 1)\n",
        "    loaded_model = pickle.load(open(\"model.pkl\", \"rb\"))\n",
        "    result = loaded_model.predict(to_predict)\n",
        "    return result[0]\n",
        "\n",
        "@app.route(\"/\")\n",
        "def home():\n",
        "    return render_template('/index.html')\n",
        "#To use the predict button in our web-app\n",
        "@app.route('/result',methods=['POST'])\n",
        "def result():\n",
        "  if request.method == 'POST':\n",
        "\n",
        "    to_predict_list = request.form.to_dict()\n",
        "    to_predict = to_predict_list.get('body')\n",
        "    print(to_predict_list)\n",
        "    print(to_predict_list.get('body'))\n",
        "    header = ['ID', 'Title', 'Body', 'Y']\n",
        "    data = []\n",
        "    data.append('1')\n",
        "    data.append(to_predict_list.get('title'))\n",
        "    data.append(to_predict_list.get('body'))\n",
        "    data.append('<TAGS>')\n",
        "    data.append('time')\n",
        "    data.append('HQ')\n",
        "\n",
        "    final_features = np.array(data)\n",
        "    with open('/content/sample_data/train.csv', 'a', newline='') as f_object:\n",
        "      # Pass the CSV  file object to the writer() function\n",
        "      writer_object = writer(f_object)\n",
        "      # Result - a writer object\n",
        "      # Pass the data in the list as an argument into the writerow() function\n",
        "      writer_object.writerow(data)\n",
        "      # Close the file object\n",
        "      f_object.close()\n",
        "    df = pd.read_csv('/content/sample_data/train.csv')\n",
        "    df.drop(df[df[\"Y\"].str.contains(\"LQ_EDIT\")].index)\n",
        "    df.Y = df.Y.map({'HQ': 1, 'LQ_CLOSE': 0})\n",
        "    df[\"Body\"] = df[\"Body\"].apply(clean_text)\n",
        "    train_x, valid_x, train_y, valid_y = model_selection.train_test_split(df['Body'], df['Y'])\n",
        "    encoder = preprocessing.LabelEncoder()\n",
        "    train_y = encoder.fit_transform(train_y)\n",
        "    valid_y = encoder.fit_transform(valid_y)\n",
        "    count_vect = CountVectorizer(analyzer='word', token_pattern=r'\\w{1,}')\n",
        "    count_vect.fit(df['Body'])\n",
        "    xtrain_count = count_vect.transform(train_x)\n",
        "    xvalid_count = count_vect.transform(valid_x)\n",
        "\n",
        "    pickled_model = pickle.load(open('model.pkl', 'rb'))\n",
        "    predictions = naive_bayes.MultinomialNB()\n",
        "    xvalid_count = count_vect.transform(valid_x)\n",
        "    #pickled_model.fit(valid_x, valid_y)\n",
        "    xvalid_count = count_vect.transform(valid_x)\n",
        "    pickled_model.fit(xvalid_count, valid_y)\n",
        "    pickled_model.predict(xvalid_count)\n",
        "    result = pickled_model.predict(xvalid_count)\n",
        "    output = result[-1]\n",
        "\n",
        "\n",
        "\n",
        "    if int(output)== 1:\n",
        "      prediction ='Question likely to be rejected or closed'\n",
        "      return render_template(\"result.html\", prediction = prediction)\n",
        "    elif int(output)== 0:\n",
        "      prediction ='Question likely to be accepted'\n",
        "      return render_template(\"result.html\", prediction = prediction)\n",
        "    else:\n",
        "      prediction ='Question will be accepted with a few small changes'\n",
        "      return render_template(\"result.html\", prediction = prediction)\n",
        "\n",
        "\n",
        "app.run()"
      ]
    },
    {
      "cell_type": "markdown",
      "metadata": {
        "id": "_lsF0L41fyil"
      },
      "source": [
        "In regards to issues that occured during the creation of this project, SVM taking too long to justify training was a key issue and more algorithms should have been tested to determine what would yield the greatest accuracy.\n",
        "\n",
        "Hypertuning could have been improved through the use of GridSearchCV or RandomizedSearchCV to automatically find the best set of hyperparameters although this would again take time which is limited in Google Colab.\n",
        "\n",
        "One ethical concern would be in regards to StackOverflow users consenting to having their questions used in a dataset such as this, as this is secondary data consent forms were not required and as the posts are public for anyone to view this is likely a non issue but is something to consider should a project such as this be distributed for the general public."
      ]
    }
  ],
  "metadata": {
    "colab": {
      "provenance": []
    },
    "gpuClass": "standard",
    "kernelspec": {
      "display_name": "Python 3",
      "name": "python3"
    },
    "language_info": {
      "name": "python"
    }
  },
  "nbformat": 4,
  "nbformat_minor": 0
}